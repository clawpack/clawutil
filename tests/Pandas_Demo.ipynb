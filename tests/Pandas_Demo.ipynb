{
 "cells": [
  {
   "cell_type": "markdown",
   "metadata": {},
   "source": [
    "# Try out Pandas for gauge data"
   ]
  },
  {
   "cell_type": "code",
   "execution_count": 1,
   "metadata": {
    "collapsed": false
   },
   "outputs": [],
   "source": [
    "%pylab inline"
   ]
  },
  {
   "cell_type": "code",
   "execution_count": 2,
   "metadata": {
    "collapsed": true
   },
   "outputs": [],
   "source": [
    "import pandas as pd"
   ]
  },
  {
   "cell_type": "code",
   "execution_count": 3,
   "metadata": {
    "collapsed": true
   },
   "outputs": [],
   "source": [
    "column_names = ['gaugeno', 'level', 'time', 'h', 'hu', 'hv', 'eta'] # for geoclaw"
   ]
  },
  {
   "cell_type": "code",
   "execution_count": 4,
   "metadata": {
    "collapsed": false
   },
   "outputs": [],
   "source": [
    "gdata = pd.read_csv('data/fort.gauge', delim_whitespace=True,\n",
    "                    names=column_names, header=None)\n",
    "gdata.shape"
   ]
  },
  {
   "cell_type": "code",
   "execution_count": 5,
   "metadata": {
    "collapsed": false
   },
   "outputs": [],
   "source": [
    "gdata[:6]"
   ]
  },
  {
   "cell_type": "code",
   "execution_count": 6,
   "metadata": {
    "collapsed": false
   },
   "outputs": [],
   "source": [
    "gdata.tail(3)"
   ]
  },
  {
   "cell_type": "markdown",
   "metadata": {},
   "source": [
    "### Extract DART data:"
   ]
  },
  {
   "cell_type": "code",
   "execution_count": 7,
   "metadata": {
    "collapsed": false
   },
   "outputs": [],
   "source": [
    "dart = gdata[gdata['gaugeno']==32412]"
   ]
  },
  {
   "cell_type": "code",
   "execution_count": 8,
   "metadata": {
    "collapsed": false
   },
   "outputs": [],
   "source": [
    "dart.tail(3)"
   ]
  },
  {
   "cell_type": "code",
   "execution_count": 9,
   "metadata": {
    "collapsed": false
   },
   "outputs": [],
   "source": [
    "eta = dart['eta']  # or equivalently, dart.eta\n",
    "print \"dart['eta'] has type %s\" % type(eta)\n",
    "etamin = eta.min()\n",
    "etamax = eta.max()\n",
    "print \"At the DART gauge, eta varies between %6.3f and %6.3f meters\" % (etamin,etamax)"
   ]
  },
  {
   "cell_type": "code",
   "execution_count": 10,
   "metadata": {
    "collapsed": false
   },
   "outputs": [],
   "source": [
    "# the indices of eta are still relative to the original gdata:\n",
    "eta.index"
   ]
  },
  {
   "cell_type": "code",
   "execution_count": 11,
   "metadata": {
    "collapsed": false
   },
   "outputs": [],
   "source": [
    "print \"The shape of eta is %s and the last three elements are:\" % eta.shape\n",
    "eta[-3:]"
   ]
  },
  {
   "cell_type": "code",
   "execution_count": 12,
   "metadata": {
    "collapsed": false
   },
   "outputs": [],
   "source": [
    "eta_np = array(eta)\n",
    "print \"After converting to a numpy array, the shape of eta_np is %s\" % eta_np.shape\n",
    "print \"The last three elements are:\", eta_np[-3:]"
   ]
  },
  {
   "cell_type": "code",
   "execution_count": 13,
   "metadata": {
    "collapsed": false
   },
   "outputs": [],
   "source": [
    "figure(figsize=(5,3))\n",
    "plot(dart['time']/3600., dart['eta'],'b')\n",
    "title('Surface eta at DART gauge 32412')\n",
    "xlabel('Hours since event')"
   ]
  },
  {
   "cell_type": "markdown",
   "metadata": {},
   "source": [
    "### Plot eta at all gauges:"
   ]
  },
  {
   "cell_type": "code",
   "execution_count": 49,
   "metadata": {
    "collapsed": false
   },
   "outputs": [],
   "source": [
    "gaugenos = list(set(gdata.gaugeno))\n",
    "gaugenos.sort()\n",
    "print \"Gauge numbers in gdata: %s\" % gaugenos\n",
    "figure(figsize=(6,4))\n",
    "c = ['b','g','r']  # colors for different gauges\n",
    "for k,gaugeno in enumerate(gaugenos):\n",
    "    data = gdata[gdata.gaugeno==gaugeno]\n",
    "    plot(data['time']/3600., data['eta'],color=c[k],label='Gauge %s' % gaugeno)\n",
    "    legend()\n",
    "    title('Surface eta')\n",
    "    xlabel('Hours since event')"
   ]
  },
  {
   "cell_type": "markdown",
   "metadata": {},
   "source": [
    "### Examine AMR levels in DART gauge data:"
   ]
  },
  {
   "cell_type": "code",
   "execution_count": 15,
   "metadata": {
    "collapsed": false
   },
   "outputs": [],
   "source": [
    "levels = list(set(dart['level']))\n",
    "levels.sort()\n",
    "print \"DART gauge has data at levels: %s\" % levels\n",
    "for levelno in levels:\n",
    "    data = dart[dart['level'] == levelno]\n",
    "    print \"Level %s first appears at t = %5.2f hours\" % (levelno, data['time'].min()/3600.)"
   ]
  },
  {
   "cell_type": "code",
   "execution_count": 16,
   "metadata": {
    "collapsed": false
   },
   "outputs": [],
   "source": [
    "figure(figsize=(6,4))\n",
    "c = ['b','g','r']  # colors for different levels\n",
    "for levelno in [1,2,3]:\n",
    "    data = dart[dart['level'] == levelno]\n",
    "    plot(data['time']/3600., data['eta'],color=c[levelno-1],\\\n",
    "         linestyle='None',marker='o',label='Level %s' % levelno)\n",
    "legend()"
   ]
  },
  {
   "cell_type": "markdown",
   "metadata": {},
   "source": [
    "## Working with datetime"
   ]
  },
  {
   "cell_type": "code",
   "execution_count": 17,
   "metadata": {
    "collapsed": true
   },
   "outputs": [],
   "source": [
    "import datetime"
   ]
  },
  {
   "cell_type": "code",
   "execution_count": 18,
   "metadata": {
    "collapsed": false
   },
   "outputs": [],
   "source": [
    "year = 2010\n",
    "month = 2\n",
    "day = 27\n",
    "hour = 6\n",
    "minute = 34\n",
    "event_time = datetime.datetime(year, month, day, hour, minute)\n",
    "print event_time"
   ]
  },
  {
   "cell_type": "code",
   "execution_count": 19,
   "metadata": {
    "collapsed": false
   },
   "outputs": [],
   "source": [
    "time_since_event = [event_time + datetime.timedelta(seconds=s) for s in gdata['time']]"
   ]
  },
  {
   "cell_type": "code",
   "execution_count": 20,
   "metadata": {
    "collapsed": false
   },
   "outputs": [],
   "source": [
    "gdata['real_time'] = time_since_event  # adds a new column\n",
    "gdata[:6]"
   ]
  },
  {
   "cell_type": "code",
   "execution_count": 21,
   "metadata": {
    "collapsed": true
   },
   "outputs": [],
   "source": [
    "dart = gdata[gdata['gaugeno']==32412]"
   ]
  },
  {
   "cell_type": "code",
   "execution_count": 22,
   "metadata": {
    "collapsed": false
   },
   "outputs": [],
   "source": [
    "fig = figure(figsize=(9,4))\n",
    "ax = axes()\n",
    "ax.plot_date(dart['real_time'], dart['eta'],'-')\n",
    "ax.xaxis.set_major_locator(HourLocator())\n",
    "ax.xaxis.set_minor_locator(MinuteLocator(arange(0,61,15)))\n",
    "ax.xaxis.set_major_formatter(DateFormatter('%H:%M'))\n",
    "fig.autofmt_xdate()\n",
    "title('Event time: %s' % event_time.strftime('%Y-%m-%d %H:%M:%S'))\n",
    "show()"
   ]
  },
  {
   "cell_type": "markdown",
   "metadata": {},
   "source": [
    "## Test adding column names after reading:"
   ]
  },
  {
   "cell_type": "code",
   "execution_count": 24,
   "metadata": {
    "collapsed": false
   },
   "outputs": [],
   "source": [
    "gdata = pd.read_csv('data/fort.gauge',delim_whitespace=True,header=None,names=None)"
   ]
  },
  {
   "cell_type": "code",
   "execution_count": 25,
   "metadata": {
    "collapsed": false
   },
   "outputs": [],
   "source": [
    "gdata[:3]"
   ]
  },
  {
   "cell_type": "code",
   "execution_count": 26,
   "metadata": {
    "collapsed": true
   },
   "outputs": [],
   "source": [
    "gdata.columns = column_names"
   ]
  },
  {
   "cell_type": "code",
   "execution_count": 27,
   "metadata": {
    "collapsed": false
   },
   "outputs": [],
   "source": [
    "gdata[:3]"
   ]
  },
  {
   "cell_type": "markdown",
   "metadata": {},
   "source": [
    "## Merge two overlapping time series\n",
    "\n",
    "This will be useful when more than one `fort.gauge` file exists from an original run and a restart and the series must be merged together.  \n",
    "\n",
    "To try this out, first create two overlapping time series by subsampling the `dart` data:"
   ]
  },
  {
   "cell_type": "code",
   "execution_count": 44,
   "metadata": {
    "collapsed": false
   },
   "outputs": [],
   "source": [
    "dart1 = dart.copy()[:400]\n",
    "print \"dart1 has %s elements from t = %8.1f to t = %8.1f\" \\\n",
    "     % (len(dart1.eta), dart1.time.min(), dart1.time.max())"
   ]
  },
  {
   "cell_type": "code",
   "execution_count": 45,
   "metadata": {
    "collapsed": false
   },
   "outputs": [],
   "source": [
    "dart2 = dart.copy()[200:]\n",
    "print \"dart2 has %s elements from t = %8.1f to t = %8.1f\" \\\n",
    "     % (len(dart2.eta), dart2.time.min(), dart2.time.max())"
   ]
  },
  {
   "cell_type": "markdown",
   "metadata": {},
   "source": [
    "### Plot them together to see the overlap:"
   ]
  },
  {
   "cell_type": "code",
   "execution_count": 46,
   "metadata": {
    "collapsed": false
   },
   "outputs": [],
   "source": [
    "plot(dart1['time']/3600, dart1['eta'],'b',linewidth=2)\n",
    "plot(dart2['time']/3600, dart2['eta'],'r--',linewidth=2)"
   ]
  },
  {
   "cell_type": "code",
   "execution_count": 47,
   "metadata": {
    "collapsed": false
   },
   "outputs": [],
   "source": [
    "# recombine:\n",
    "dart_reconstructed = dart1.combine_first(dart2)\n",
    "dart_reconstructed.shape"
   ]
  },
  {
   "cell_type": "code",
   "execution_count": 48,
   "metadata": {
    "collapsed": false
   },
   "outputs": [],
   "source": [
    "plot(dart_reconstructed['time']/3600, dart_reconstructed['eta'])"
   ]
  },
  {
   "cell_type": "code",
   "execution_count": null,
   "metadata": {
    "collapsed": true
   },
   "outputs": [],
   "source": []
  }
 ],
 "metadata": {
  "kernelspec": {
   "display_name": "Python 2",
   "language": "python",
   "name": "python2"
  },
  "language_info": {
   "codemirror_mode": {
    "name": "ipython",
    "version": 2
   },
   "file_extension": ".py",
   "mimetype": "text/x-python",
   "name": "python",
   "nbconvert_exporter": "python",
   "pygments_lexer": "ipython2",
   "version": "2.7.10"
  }
 },
 "nbformat": 4,
 "nbformat_minor": 0
}
